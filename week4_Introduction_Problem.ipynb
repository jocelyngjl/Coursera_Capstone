{
 "cells": [
  {
   "cell_type": "markdown",
   "metadata": {},
   "source": [
    "## 1. Introduction"
   ]
  },
  {
   "cell_type": "markdown",
   "metadata": {},
   "source": [
    "### 1.1 Background"
   ]
  },
  {
   "cell_type": "markdown",
   "metadata": {},
   "source": [
    "The state of Maryland, bordering Virginia, West Virginia, and the District of Columbia, is part of the Washington D.C. metropolitan area, one of the most educated and most affluent metropolitan areas in the US. Montgomery County in Maryland, is the most populous county in Maryland, which provides lots of business opportunities and business friendly environment. One business man newly relocated to Maryland. He is planning to open an Chinese restaurant in Montgomery county, where is close to his new home. This report aims to recommend  him some reasonable locations based on zip code to start his new business. This will help to give a good understanding of the business environment, strategically target the market, as well as reduce the risk."
   ]
  },
  {
   "cell_type": "markdown",
   "metadata": {},
   "source": [
    "### 1.2 Problem"
   ]
  },
  {
   "cell_type": "markdown",
   "metadata": {},
   "source": [
    "The Washington D.C. metropolitan area is famous for its diversified cuisine because that most Embassies are located in the capital city and Montgomery county. So it is evident that to survive in such a highly competitive market, any new venture needs to be analyzed carefully. Various factors need to be studied in order to decide the location such as:\n",
    "\n",
    "1.Montgomery County segmentation of neighborhood\\\n",
    "2.Montgomery County Demographics\\\n",
    "3.Are there any other venues like entertainment zones, shopping malls, grocery stores etc nearby where floating people is high\\\n",
    "4.Are there any strong competitors already existing\\\n",
    "5.What is the average income of the neighborhood"
   ]
  }
 ],
 "metadata": {
  "kernelspec": {
   "display_name": "Python 3",
   "language": "python",
   "name": "python3"
  },
  "language_info": {
   "codemirror_mode": {
    "name": "ipython",
    "version": 3
   },
   "file_extension": ".py",
   "mimetype": "text/x-python",
   "name": "python",
   "nbconvert_exporter": "python",
   "pygments_lexer": "ipython3",
   "version": "3.7.6"
  }
 },
 "nbformat": 4,
 "nbformat_minor": 4
}
