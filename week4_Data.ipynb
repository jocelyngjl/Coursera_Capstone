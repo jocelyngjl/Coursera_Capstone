{
 "cells": [
  {
   "cell_type": "markdown",
   "metadata": {},
   "source": [
    "## 2. Data acquisition and Preprocessing\n",
    "\n",
    "### 2.1 Datasets\n",
    "\n",
    "* Data1: List of Montgomery County Zip codes\n",
    "<img src=\"111.png\" width=\"150\" height=\"400\">\n",
    "\n",
    "  *Source:https://www.zillow.com/browse/homes/md/montgomery-county*\n",
    "  \n",
    "  \n",
    "\n",
    "* Data 2: Maryland AGI by zip code\n",
    "<img src=\"222.jpeg\" width=\"300\" height=\"400\">\n",
    "\n",
    "  *Source: https://datausa.io/profile/geo/maryland#economy*\n",
    "\n",
    "\n",
    "\n",
    "* Data 3: Maryland Census 2010 Data\n",
    "<img src=\"333.jpeg\" width=\"800\" height=\"500\">\n",
    "\n",
    "  *Source: https://data.imap.maryland.gov/datasets/eb706b48117b43d482c63d02017fc3ff_1*\n",
    "\n",
    "\n",
    "\n",
    "* Data 4: Maryland Political Boundaries Json Data \n",
    "<img src=\"444.jpeg\" width=\"800\" height=\"500\">\n",
    "  \n",
    "  *Source: https://data.imap.maryland.gov/datasets/maryland-political-boundaries-zip-codes-11-digit/geoservice*\n",
    "\n",
    "\n",
    "### 2.2 Foursquare API\n",
    "\n",
    "Foursquare API has a database of more than 105 million places. This project would use Foursquare API as its prime data gathering source. Due to request limitations, the number of venues per neighborhood parameter would reasonably be set to 1000, and the radius parameter would be set to 3000.\n",
    "\n",
    "\n",
    "### 2.3 Preprocessing\n",
    "\n",
    "2.3.1 Create a new empty data frame to combine the data derived from different sources.\\\n",
    "2.3.2 Fill out the new data frame one by one with the datasets mentioned above.\\\n",
    "2.3.3 Reset the index for a better view.\\\n",
    "2.3.4 Convert data types to proper format.\\\n",
    "2.3.5 Drop duplicate rows where is necessary.\\\n",
    "2.3.6 Data Normalization transforms values of several variables into a similar range.\\\n",
    "2.3.7 Data description and visualization is for a better understanding.\n"
   ]
  },
  {
   "cell_type": "code",
   "execution_count": null,
   "metadata": {},
   "outputs": [],
   "source": []
  }
 ],
 "metadata": {
  "kernelspec": {
   "display_name": "Python 3",
   "language": "python",
   "name": "python3"
  },
  "language_info": {
   "codemirror_mode": {
    "name": "ipython",
    "version": 3
   },
   "file_extension": ".py",
   "mimetype": "text/x-python",
   "name": "python",
   "nbconvert_exporter": "python",
   "pygments_lexer": "ipython3",
   "version": "3.7.6"
  }
 },
 "nbformat": 4,
 "nbformat_minor": 4
}
